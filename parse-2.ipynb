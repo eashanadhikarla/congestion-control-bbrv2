{
 "cells": [
  {
   "cell_type": "markdown",
   "source": [
    "# Bost-dtn Analysis"
   ],
   "metadata": {}
  },
  {
   "cell_type": "code",
   "execution_count": 1,
   "source": [
    "import os\n",
    "import json\n",
    "import numpy as np\n",
    "from pathlib import Path\n",
    "\n",
    "rootdir = \"/Users/eashan22/Desktop/Internship 2021/bbrv2/Brian's Project/bost-dtn\"\n",
    "# rootdir = \"/home/eadhikarla/Desktop/Brian's Project/bost-dtn\"\n",
    "\n",
    "def traverse(path):\n",
    "    fileList = []\n",
    "    c = 0\n",
    "    for root, directories, files in os.walk(path):\n",
    "        for file in files:\n",
    "            if file.endswith(\"json\"):\n",
    "                fileList.append(os.path.join(root,file))\n",
    "                c+=1\n",
    "    print(f\"Total files: {c}\")\n",
    "    return fileList"
   ],
   "outputs": [],
   "metadata": {}
  },
  {
   "cell_type": "markdown",
   "source": [
    "==========================================\n",
    "## bost-dtn (2021-06-09:14:35)\n",
    "### 1. bbr2_p1"
   ],
   "metadata": {}
  },
  {
   "cell_type": "code",
   "execution_count": 2,
   "source": [
    "pscheduler_bbr2_p1  = os.path.join(rootdir, \"2021-06-09:14:35/pscheduler_bbr2_p1\")\n",
    "filenames = traverse(pscheduler_bbr2_p1)\n",
    "\n",
    "data_seg = []\n",
    "tput_bbr2_p1 = []\n",
    "key2 = 'bbr2_data_segs'\n",
    "\n",
    "for i,f in enumerate(filenames):\n",
    "    try:\n",
    "        path = Path(f)\n",
    "        # The MongoDB JSON dump has one object per line, so this works for me.\n",
    "        data = [json.loads(line) for line in open(f, 'r')]\n",
    "        \n",
    "        bbr2_data_seg, throughput, mss, start_time, end_time = 0.0, 0.0, 0.0, 0.0, 0.0\n",
    "        for j,d in enumerate(data):\n",
    "            \n",
    "            if \"interval\" in d.keys() and j==0:\n",
    "                start_time = data[j]['interval']['time'] # Start time of the test\n",
    "            elif key2 in data[j].keys():\n",
    "                end_time = data[j-1]['interval']['time'] # End time of the test\n",
    "                mss = data[j-1]['interval']['mss'] # maximum segment size\n",
    "\n",
    "                bbr2_data_seg = data[j][key2]\n",
    "                data_seg.append(bbr2_data_seg)\n",
    "\n",
    "                throughput = ((bbr2_data_seg*mss*8)/(end_time-start_time))/1e9\n",
    "                tput_bbr2_p1.append( throughput )\n",
    "    \n",
    "    except Exception as e:\n",
    "        print(e)\n",
    "        \n",
    "print(\"Throughput\")\n",
    "print(f\"Mean: {np.mean(tput_bbr2_p1)}  | Variance: {np.var(tput_bbr2_p1)}\")\n",
    "print(\"Data Segment\")\n",
    "print(f\"Mean: {np.mean(data_seg):f}  | Variance: {np.var(data_seg):f}\")"
   ],
   "outputs": [
    {
     "output_type": "stream",
     "name": "stdout",
     "text": [
      "Total files: 105\n",
      "Throughput\n",
      "Mean: 6.016225764088099  | Variance: 6.998225016753158\n",
      "Data Segment\n",
      "Mean: 10593937.790476  | Variance: 53354882026455.648438\n"
     ]
    }
   ],
   "metadata": {}
  },
  {
   "cell_type": "markdown",
   "source": [
    "## bost-dtn (2021-06-09:14:35)\n",
    "### 2. cubic_p1"
   ],
   "metadata": {}
  },
  {
   "cell_type": "code",
   "execution_count": 3,
   "source": [
    "pscheduler_cubic_p1 = os.path.join(rootdir, \"2021-06-09:14:35/pscheduler_cubic_p1\")\n",
    "filenames = traverse(pscheduler_cubic_p1)\n",
    "\n",
    "data_seg = []\n",
    "tput_p1_cubic = []\n",
    "key1 = 'cubic_data_segs'\n",
    "\n",
    "for i,f in enumerate(filenames):\n",
    "    try:\n",
    "        path = Path(f)\n",
    "        # The MongoDB JSON dump has one object per line, so this works for me.\n",
    "        data = [json.loads(line) for line in open(f, 'r')]\n",
    "        \n",
    "        cubic_data_seg, throughput, mss, start_time, end_time = 0.0, 0.0, 0.0, 0.0, 0.0\n",
    "        for j,d in enumerate(data):\n",
    "            if \"interval\" in d.keys() and j==0:\n",
    "                start_time = data[j]['interval']['time'] # Start time of the test\n",
    "            elif key1 in data[j].keys():\n",
    "                end_time = data[j-1]['interval']['time'] # End time of the test\n",
    "                mss = data[j-1]['interval']['mss'] # maximum segment size\n",
    "\n",
    "                cubic_data_seg = data[j][key1]\n",
    "                data_seg.append(cubic_data_seg)\n",
    "\n",
    "                throughput = ((cubic_data_seg*mss*8)/(end_time-start_time))/1e9\n",
    "                tput_p1_cubic.append( throughput )\n",
    "        # print(f\"Throughput: {(throughput/1e9):.4f} Gbps/sec\")\n",
    "    \n",
    "    except Exception as e:\n",
    "        print(e)\n",
    "\n",
    "print(\"Throughput\")\n",
    "print(f\"Mean: {np.mean(tput_p1_cubic)}  | Variance: {np.var(tput_p1_cubic)}\")\n",
    "print(\"Data Segment\")\n",
    "print(f\"Mean: {np.mean(data_seg)}  | Variance: {np.var(data_seg)}\")"
   ],
   "outputs": [
    {
     "output_type": "stream",
     "name": "stdout",
     "text": [
      "Total files: 105\n",
      "Throughput\n",
      "Mean: 6.523173995414669  | Variance: 8.671801878705109\n",
      "Data Segment\n",
      "Mean: 11281322.247619048  | Variance: 59836109647663.1\n"
     ]
    }
   ],
   "metadata": {}
  },
  {
   "cell_type": "markdown",
   "source": [
    "## bost-dtn (2021-06-09:14:35)\n",
    "### 3. both_p16  -----> Fig. 4b. in paper"
   ],
   "metadata": {}
  },
  {
   "cell_type": "code",
   "execution_count": 4,
   "source": [
    "pscheduler_both_p16 = os.path.join(rootdir, \"2021-06-09:14:35/pscheduler_both_p16\")\n",
    "filenames = traverse(pscheduler_both_p16)\n",
    "\n",
    "data_seg_sum_cubic, data_seg_sum_bbr2 = [], []\n",
    "tput_cubic_p16, tput_bbr2_p16 = [], []\n",
    "key1, key2 = 'cubic_data_segs', 'bbr2_data_segs'\n",
    "\n",
    "for i,f in enumerate(filenames):\n",
    "    try:\n",
    "        path = Path(f)\n",
    "        data = [json.loads(line) for line in open(f, 'r')]\n",
    "        \n",
    "        throughput_cubic, throughput_bbr2, throughput, mss, start_time, end_time = 0.0, 0.0, 0.0, 0.0, 0.0, 0.0\n",
    "        for j,d in zip(range(len(data)),data):\n",
    "            try:\n",
    "                if \"interval\" in d.keys() and j==0:\n",
    "                    start_time = d['interval']['time'] # Start time of the test\n",
    "                if \"streams\" in d.keys():\n",
    "                    end_time = data[j-1]['interval']['time'] # End time of the test\n",
    "                    mss = data[j-1]['interval']['mss'] # maximum segment size\n",
    "                    \n",
    "                    cubic_data_seg_list, bbr2_data_seg_list = [], []\n",
    "                    for j in range(len(d['streams'])):\n",
    "                        if \"cubic\" in d['streams'][j]['cc']:\n",
    "                            cubic_data_seg_list.append(d['streams'][j]['data_segs'])\n",
    "                        elif \"bbr2\" in d['streams'][j]['cc']:\n",
    "                            bbr2_data_seg_list.append(d['streams'][j]['data_segs'])\n",
    "                    \n",
    "                    data_seg_sum_cubic.append( sum(cubic_data_seg_list) )\n",
    "                    throughput_cubic = ((sum(cubic_data_seg_list)*mss*8)/(end_time-start_time))/1e9\n",
    "                    tput_cubic_p16.append( throughput_cubic )\n",
    "\n",
    "                    data_seg_sum_bbr2.append( sum(bbr2_data_seg_list) )\n",
    "                    throughput_bbr2 = ((sum(bbr2_data_seg_list)*mss*8)/(end_time-start_time))/1e9\n",
    "                    tput_bbr2_p16.append( throughput_bbr2 )\n",
    "\n",
    "            except Exception as e:\n",
    "                print(e)\n",
    "\n",
    "    except Exception as e:\n",
    "        print(e)\n",
    "\n",
    "print(\"Throughput\")\n",
    "print(f\"Cubic Mean: {np.mean(tput_cubic_p16)}  | Cubic Variance: {np.var(tput_cubic_p16)}\")\n",
    "print(f\"Bbrv2 Mean: {np.mean(tput_bbr2_p16)}  | Bbrv2 Variance: {np.var(tput_bbr2_p16)}\")\n",
    "\n",
    "print(\"Data Segment\")\n",
    "print(f\"Cubic Mean: {np.mean(data_seg_sum_cubic)}  | Cubic Variance: {np.var(data_seg_sum_cubic)}\")\n",
    "print(f\"Bbrv2 Mean: {np.mean(data_seg_sum_bbr2)}  | Bbrv2 Variance: {np.var(data_seg_sum_bbr2)}\")"
   ],
   "outputs": [
    {
     "output_type": "stream",
     "name": "stdout",
     "text": [
      "Total files: 109\n",
      "Throughput\n",
      "Cubic Mean: 4.307491100831608  | Cubic Variance: 4.025419591687468\n",
      "Bbrv2 Mean: 3.4211962376233123  | Bbrv2 Variance: 1.6866828401219744\n",
      "Data Segment\n",
      "Cubic Mean: 19844388.688073393  | Cubic Variance: 1702568119688929.5\n",
      "Bbrv2 Mean: 16160038.23853211  | Bbrv2 Variance: 663028364607013.1\n"
     ]
    }
   ],
   "metadata": {}
  },
  {
   "cell_type": "code",
   "execution_count": null,
   "source": [],
   "outputs": [],
   "metadata": {}
  },
  {
   "cell_type": "code",
   "execution_count": null,
   "source": [],
   "outputs": [],
   "metadata": {}
  },
  {
   "cell_type": "code",
   "execution_count": null,
   "source": [],
   "outputs": [],
   "metadata": {}
  },
  {
   "cell_type": "code",
   "execution_count": null,
   "source": [],
   "outputs": [],
   "metadata": {}
  },
  {
   "cell_type": "code",
   "execution_count": null,
   "source": [],
   "outputs": [],
   "metadata": {}
  },
  {
   "cell_type": "markdown",
   "source": [
    "==========================================\n",
    "## bost-dtn (2021-06-15:02:12)\n",
    "### 1. bbr2_p1"
   ],
   "metadata": {}
  },
  {
   "cell_type": "code",
   "execution_count": 5,
   "source": [
    "pscheduler_bbr2_p1  = os.path.join(rootdir, \"2021-06-15:02:12/pscheduler_bbr2_p1\")\n",
    "filenames = traverse(pscheduler_bbr2_p1)\n",
    "\n",
    "data_seg = []\n",
    "tput_bbr2_p1 = []\n",
    "key2 = 'bbr2_data_segs'\n",
    "\n",
    "for i,f in enumerate(filenames):\n",
    "    try:\n",
    "        path = Path(f)\n",
    "        data = [json.loads(line) for line in open(f, 'r')]\n",
    "        \n",
    "        bbr2_data_seg, throughput, mss, start_time, end_time = 0.0, 0.0, 0.0, 0.0, 0.0\n",
    "        for j,d in enumerate(data):\n",
    "            if \"interval\" in d.keys() and j==0:\n",
    "                start_time = data[j]['interval']['time'] # Start time of the test\n",
    "            elif key2 in data[j].keys():\n",
    "                end_time = data[j-1]['interval']['time'] # End time of the test\n",
    "                mss = data[j-1]['interval']['mss'] # maximum segment size\n",
    "\n",
    "                bbr2_data_seg = data[j][key2]\n",
    "                data_seg.append(bbr2_data_seg)\n",
    "\n",
    "                throughput = ((bbr2_data_seg*mss*8)/(end_time-start_time))/1e9\n",
    "                tput_bbr2_p1.append( throughput )\n",
    "    \n",
    "    except Exception as e:\n",
    "        print(e)\n",
    "\n",
    "print(\"Throughput\")\n",
    "print(f\"Mean: {np.mean(tput_bbr2_p1)}  | Variance: {np.var(tput_bbr2_p1)}\")\n",
    "print(\"Data Segment\")\n",
    "print(f\"Mean: {np.mean(data_seg)}  | Variance: {np.var(data_seg)}\")"
   ],
   "outputs": [
    {
     "output_type": "stream",
     "name": "stdout",
     "text": [
      "Total files: 45\n",
      "Throughput\n",
      "Mean: 6.731268177311756  | Variance: 8.108354896841512\n",
      "Data Segment\n",
      "Mean: 9662307.777777778  | Variance: 46214551992636.76\n"
     ]
    }
   ],
   "metadata": {}
  },
  {
   "cell_type": "markdown",
   "source": [
    "## bost-dtn (2021-06-15:02:12)\n",
    "### 2. cubic_p1"
   ],
   "metadata": {}
  },
  {
   "cell_type": "code",
   "execution_count": 6,
   "source": [
    "pscheduler_cubic_p1 = os.path.join(rootdir, \"2021-06-15:02:12/pscheduler_cubic_p1\")\n",
    "filenames = traverse(pscheduler_cubic_p1)\n",
    "\n",
    "data_seg = []\n",
    "tput_p1_cubic = []\n",
    "key1 = 'cubic_data_segs'\n",
    "\n",
    "for i,f in enumerate(filenames):\n",
    "    try:\n",
    "        path = Path(f)\n",
    "        # The MongoDB JSON dump has one object per line, so this works for me.\n",
    "        data = [json.loads(line) for line in open(f, 'r')]\n",
    "        \n",
    "        cubic_data_seg, throughput, mss, start_time, end_time = 0.0, 0.0, 0.0, 0.0, 0.0\n",
    "        for j,d in enumerate(data):\n",
    "            if \"interval\" in d.keys() and j==0:\n",
    "                start_time = data[j]['interval']['time'] # Start time of the test\n",
    "            elif key1 in data[j].keys():\n",
    "                end_time = data[j-1]['interval']['time'] # End time of the test\n",
    "                mss = data[j-1]['interval']['mss'] # maximum segment size\n",
    "\n",
    "                cubic_data_seg = data[j][key1]\n",
    "                data_seg.append(cubic_data_seg)\n",
    "\n",
    "                throughput = ((cubic_data_seg*mss*8)/(end_time-start_time))/1e9\n",
    "                tput_p1_cubic.append( throughput )\n",
    "        # print(f\"Throughput: {(throughput/1e9):.4f} Gbps/sec\")\n",
    "    \n",
    "    except Exception as e:\n",
    "        print(e)\n",
    "\n",
    "print(\"Throughput\")\n",
    "print(f\"Mean: {np.mean(tput_p1_cubic)}  | Variance: {np.var(tput_p1_cubic)}\")\n",
    "print(\"Data Segment\")\n",
    "print(f\"Mean: {np.mean(data_seg)}  | Variance: {np.var(data_seg)}\")"
   ],
   "outputs": [
    {
     "output_type": "stream",
     "name": "stdout",
     "text": [
      "Total files: 47\n",
      "Throughput\n",
      "Mean: 6.718818006215081  | Variance: 9.18101181126119\n",
      "Data Segment\n",
      "Mean: 9722667.617021276  | Variance: 47272544227031.086\n"
     ]
    }
   ],
   "metadata": {}
  },
  {
   "cell_type": "markdown",
   "source": [
    "## bost-dtn (2021-06-15:02:12)\n",
    "### 3. both_p16"
   ],
   "metadata": {}
  },
  {
   "cell_type": "code",
   "execution_count": 7,
   "source": [
    "pscheduler_both_p16 = os.path.join(rootdir, \"2021-06-15:02:12/pscheduler_both_p16\")\n",
    "filenames = traverse(pscheduler_both_p16)\n",
    "\n",
    "data_seg_sum_cubic, data_seg_sum_bbr2 = [], []\n",
    "tput_cubic_p16, tput_bbr2_p16 = [], []\n",
    "key1, key2 = 'cubic_data_segs', 'bbr2_data_segs'\n",
    "\n",
    "for i,f in enumerate(filenames):\n",
    "    try:\n",
    "        path = Path(f)\n",
    "        data = [json.loads(line) for line in open(f, 'r')]\n",
    "        \n",
    "        throughput_cubic, throughput_bbr2, throughput, mss, start_time, end_time = 0.0, 0.0, 0.0, 0.0, 0.0, 0.0\n",
    "        for j,d in zip(range(len(data)),data):\n",
    "            try:\n",
    "                if \"interval\" in d.keys() and j==0:\n",
    "                    start_time = d['interval']['time'] # Start time of the test\n",
    "                if \"streams\" in d.keys():\n",
    "                    end_time = data[j-1]['interval']['time'] # End time of the test\n",
    "                    mss = data[j-1]['interval']['mss'] # maximum segment size\n",
    "                    \n",
    "                    cubic_data_seg_list, bbr2_data_seg_list = [], []\n",
    "                    for j in range(len(d['streams'])):\n",
    "                        if \"cubic\" in d['streams'][j]['cc']:\n",
    "                            cubic_data_seg_list.append(d['streams'][j]['data_segs'])\n",
    "                        elif \"bbr2\" in d['streams'][j]['cc']:\n",
    "                            bbr2_data_seg_list.append(d['streams'][j]['data_segs'])\n",
    "                    \n",
    "                    data_seg_sum_cubic.append( sum(cubic_data_seg_list) )\n",
    "                    throughput_cubic = ((sum(cubic_data_seg_list)*mss*8)/(end_time-start_time))/1e9\n",
    "                    tput_cubic_p16.append( throughput_cubic )\n",
    "\n",
    "                    data_seg_sum_bbr2.append( sum(bbr2_data_seg_list) )\n",
    "                    throughput_bbr2 = ((sum(bbr2_data_seg_list)*mss*8)/(end_time-start_time))/1e9\n",
    "                    tput_bbr2_p16.append( throughput_bbr2 )\n",
    "\n",
    "            except Exception as e:\n",
    "                print(e)\n",
    "\n",
    "    except Exception as e:\n",
    "        print(e)\n",
    "\n",
    "print(\"Throughput\")\n",
    "print(f\"Cubic Mean: {np.mean(tput_cubic_p16)}  | Cubic Variance: {np.var(tput_cubic_p16)}\")\n",
    "print(f\"Bbrv2 Mean: {np.mean(tput_bbr2_p16)}  | Bbrv2 Variance: {np.var(tput_bbr2_p16)}\")\n",
    "\n",
    "print(\"Data Segment\")\n",
    "print(f\"Cubic Mean: {np.mean(data_seg_sum_cubic)}  | Cubic Variance: {np.var(data_seg_sum_cubic)}\")\n",
    "print(f\"Bbrv2 Mean: {np.mean(data_seg_sum_bbr2)}  | Bbrv2 Variance: {np.var(data_seg_sum_bbr2)}\")"
   ],
   "outputs": [
    {
     "output_type": "stream",
     "name": "stdout",
     "text": [
      "Total files: 50\n",
      "Throughput\n",
      "Cubic Mean: 2.3610244852519005  | Cubic Variance: 4.0516137939597145\n",
      "Bbrv2 Mean: 5.80050963606564  | Bbrv2 Variance: 4.025665760087974\n",
      "Data Segment\n",
      "Cubic Mean: 8785820.88  | Cubic Variance: 218978255872263.2\n",
      "Bbrv2 Mean: 34885604.12  | Bbrv2 Variance: 3816636072264945.5\n"
     ]
    }
   ],
   "metadata": {}
  },
  {
   "cell_type": "code",
   "execution_count": null,
   "source": [],
   "outputs": [],
   "metadata": {}
  },
  {
   "cell_type": "code",
   "execution_count": null,
   "source": [],
   "outputs": [],
   "metadata": {}
  },
  {
   "cell_type": "code",
   "execution_count": null,
   "source": [],
   "outputs": [],
   "metadata": {}
  },
  {
   "cell_type": "code",
   "execution_count": null,
   "source": [],
   "outputs": [],
   "metadata": {}
  },
  {
   "cell_type": "code",
   "execution_count": null,
   "source": [],
   "outputs": [],
   "metadata": {}
  },
  {
   "cell_type": "markdown",
   "source": [
    "==========================================\n",
    "## bost-dtn (2021-06-16:02:12)\n",
    "### 1. bbr2_p1"
   ],
   "metadata": {}
  },
  {
   "cell_type": "code",
   "execution_count": 8,
   "source": [
    "pscheduler_bbr2_p1  = os.path.join(rootdir, \"2021-06-16:02:12/pscheduler_bbr2_p1\")\n",
    "filenames = traverse(pscheduler_bbr2_p1)\n",
    "\n",
    "data_seg = []\n",
    "tput_bbr2_p1 = []\n",
    "key1, key2, key3 = 'cubic_data_segs', 'bbr2_data_segs', 'bbr_data_segs'\n",
    "\n",
    "for i,f in enumerate(filenames):\n",
    "    try:\n",
    "        path = Path(f)\n",
    "        data = [json.loads(line) for line in open(f, 'r')]\n",
    "        \n",
    "        bbr2_data_seg, throughput, mss, start_time, end_time = 0.0, 0.0, 0.0, 0.0, 0.0\n",
    "        for j,d in enumerate(data):\n",
    "            if \"interval\" in d.keys() and j==0:\n",
    "                start_time = data[j]['interval']['time'] # Start time of the test\n",
    "            elif key2 in data[j].keys():\n",
    "                end_time = data[j-1]['interval']['time'] # End time of the test\n",
    "                mss = data[j-1]['interval']['mss'] # maximum segment size\n",
    "\n",
    "                bbr2_data_seg = data[j][key2]\n",
    "                data_seg.append( bbr2_data_seg )\n",
    "\n",
    "                throughput = (bbr2_data_seg*mss*8)/(end_time-start_time)/1e9\n",
    "                tput_bbr2_p1.append( throughput )\n",
    "    \n",
    "    except Exception as e:\n",
    "        print(e)\n",
    "\n",
    "print(\"Throughput\")\n",
    "print(f\"Mean: {np.mean(tput_bbr2_p1)}  | Variance: {np.var(tput_bbr2_p1)}\")\n",
    "print(\"Data Segment\")\n",
    "print(f\"Mean: {np.mean(data_seg)}  | Variance: {np.var(data_seg)}\")"
   ],
   "outputs": [
    {
     "output_type": "stream",
     "name": "stdout",
     "text": [
      "Total files: 55\n",
      "Throughput\n",
      "Mean: 6.331755373365051  | Variance: 8.16012090866518\n",
      "Data Segment\n",
      "Mean: 11637878.672727272  | Variance: 59359636395545.71\n"
     ]
    }
   ],
   "metadata": {}
  },
  {
   "cell_type": "markdown",
   "source": [
    "## bost-dtn (2021-06-16:02:12)\n",
    "### 2. cubic_p1"
   ],
   "metadata": {}
  },
  {
   "cell_type": "code",
   "execution_count": 9,
   "source": [
    "pscheduler_cubic_p1 = os.path.join(rootdir, \"2021-06-16:02:12/pscheduler_cubic_p1\")\n",
    "filenames = traverse(pscheduler_cubic_p1)\n",
    "\n",
    "data_seg = []\n",
    "tput_p1_cubic = []\n",
    "key1, key2, key3 = 'cubic_data_segs', 'bbr2_data_segs', 'bbr_data_segs'\n",
    "\n",
    "for i,f in enumerate(filenames):\n",
    "    try:\n",
    "        path = Path(f)\n",
    "        # The MongoDB JSON dump has one object per line, so this works for me.\n",
    "        data = [json.loads(line) for line in open(f, 'r')]\n",
    "        \n",
    "        cubic_data_seg, throughput, mss, start_time, end_time = 0.0, 0.0, 0.0, 0.0, 0.0\n",
    "        for j,d in enumerate(data):\n",
    "            if \"interval\" in d.keys() and j==0:\n",
    "                start_time = data[j]['interval']['time'] # Start time of the test\n",
    "            elif key1 in data[j].keys():\n",
    "                end_time = data[j-1]['interval']['time'] # End time of the test\n",
    "                mss = data[j-1]['interval']['mss'] # maximum segment size\n",
    "\n",
    "                cubic_data_seg = data[j][key1]\n",
    "                data_seg.append( cubic_data_seg )\n",
    "\n",
    "                throughput = (cubic_data_seg*mss*8)/(end_time-start_time)/1e9\n",
    "                tput_p1_cubic.append( throughput )\n",
    "    \n",
    "    except Exception as e:\n",
    "        print(e)\n",
    "\n",
    "print(\"Throughput\")\n",
    "print(f\"Mean: {np.mean(tput_p1_cubic)}  | Variance: {np.var(tput_p1_cubic)}\")\n",
    "print(\"Data Segment\")\n",
    "print(f\"Mean: {np.mean(data_seg)}  | Variance: {np.var(data_seg)}\")"
   ],
   "outputs": [
    {
     "output_type": "stream",
     "name": "stdout",
     "text": [
      "Total files: 54\n",
      "Throughput\n",
      "Mean: 6.349940200589246  | Variance: 9.532853858764945\n",
      "Data Segment\n",
      "Mean: 11014398.944444444  | Variance: 62556039019839.65\n"
     ]
    }
   ],
   "metadata": {}
  },
  {
   "cell_type": "markdown",
   "source": [
    "## bost-dtn (2021-06-16:02:12)\n",
    "### 3. both_p16"
   ],
   "metadata": {}
  },
  {
   "cell_type": "code",
   "execution_count": null,
   "source": [
    "pscheduler_both_p16 = os.path.join(rootdir, \"2021-06-16:02:12/pscheduler_both_p16\")\n",
    "filenames = traverse(pscheduler_both_p16)\n",
    "\n",
    "data_seg_sum_cubic, data_seg_sum_bbr2 = [], []\n",
    "tput_cubic_p16, tput_bbr2_p16 = [], []\n",
    "key1, key2, key3 = 'cubic_data_segs', 'bbr2_data_segs', 'bbr_data_segs'\n",
    "\n",
    "for i,f in enumerate(filenames):\n",
    "    try:\n",
    "        path = Path(f)\n",
    "        data = [json.loads(line) for line in open(f, 'r')]\n",
    "        \n",
    "        throughput_cubic, throughput_bbr2, throughput, mss, start_time, end_time = 0.0, 0.0, 0.0, 0.0, 0.0, 0.0\n",
    "        for j,d in zip(range(len(data)),data):\n",
    "            try:\n",
    "                if \"interval\" in d.keys() and j==0:\n",
    "                    start_time = d['interval']['time'] # Start time of the test\n",
    "                if \"streams\" in d.keys():\n",
    "                    end_time = data[j-1]['interval']['time'] # End time of the test\n",
    "                    mss = data[j-1]['interval']['mss'] # maximum segment size\n",
    "                    \n",
    "                    cubic_data_seg_list, bbr2_data_seg_list = [], []\n",
    "                    for j in range(len(d['streams'])):\n",
    "                        if \"cubic\" in d['streams'][j]['cc']:\n",
    "                            cubic_data_seg_list.append(d['streams'][j]['data_segs'])\n",
    "                        elif \"bbr2\" in d['streams'][j]['cc']:\n",
    "                            bbr2_data_seg_list.append(d['streams'][j]['data_segs'])\n",
    "                    \n",
    "                    data_seg_sum_cubic.append( sum(cubic_data_seg_list) )\n",
    "                    throughput_cubic = (sum(cubic_data_seg_list)*mss*8)/(end_time-start_time)/1e9\n",
    "                    tput_cubic_p16.append( throughput_cubic )\n",
    "\n",
    "                    data_seg_sum_bbr2.append( sum(bbr2_data_seg_list) )\n",
    "                    throughput_bbr2 = (sum(bbr2_data_seg_list)*mss*8)/(end_time-start_time)/1e9\n",
    "                    tput_bbr2_p16.append( throughput_bbr2 )\n",
    "\n",
    "            except Exception as e:\n",
    "                print(e)\n",
    "\n",
    "    except Exception as e:\n",
    "        print(e)\n",
    "\n",
    "print(\"Throughput\")\n",
    "print(f\"Cubic Mean: {np.mean(tput_cubic_p16)}  | Cubic Variance: {np.var(tput_cubic_p16)}\")\n",
    "print(f\"Bbrv2 Mean: {np.mean(tput_bbr2_p16)}  | Bbrv2 Variance: {np.var(tput_bbr2_p16)}\")\n",
    "\n",
    "print(\"Data Segment\")\n",
    "print(f\"Cubic Mean: {np.mean(data_seg_sum_cubic)}  | Cubic Variance: {np.var(data_seg_sum_cubic)}\")\n",
    "print(f\"Bbrv2 Mean: {np.mean(data_seg_sum_bbr2)}  | Bbrv2 Variance: {np.var(data_seg_sum_bbr2)}\")"
   ],
   "outputs": [],
   "metadata": {}
  },
  {
   "cell_type": "markdown",
   "source": [
    "# Buffer Analysis"
   ],
   "metadata": {}
  },
  {
   "cell_type": "markdown",
   "source": [],
   "metadata": {}
  }
 ],
 "metadata": {
  "interpreter": {
   "hash": "e443ef68753a57e21b26925269da7f3b0b849de1f4d00950fc0d90accc0b6012"
  },
  "kernelspec": {
   "display_name": "Python 3.8.5 64-bit ('base': conda)",
   "name": "python3"
  },
  "language_info": {
   "name": "python",
   "version": ""
  },
  "orig_nbformat": 4
 },
 "nbformat": 4,
 "nbformat_minor": 2
}